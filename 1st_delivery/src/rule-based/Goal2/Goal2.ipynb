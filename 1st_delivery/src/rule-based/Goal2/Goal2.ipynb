{
 "cells": [
  {
   "cell_type": "markdown",
   "metadata": {},
   "source": [
    "## External knowledge\n",
    "As external knowledge we looked for more suffixes, infixes and prexised and composed words, outside the training set, that could help us improve the accuracy."
   ]
  },
  {
   "cell_type": "code",
   "execution_count": 1,
   "metadata": {},
   "outputs": [],
   "source": [
    "DRUG_SUFFIXES = [\"vir\", \"cilin\", \"mab\", \"ciclib\", \"lisib\", \"tinib\", \"vastatin\", \"prazole\", \"lukast\", \"axine\", \"olol\",\n",
    "\t\t\t\t \"oxetine\", \"sartan\", \"pril\", \"oxacin\", \"xaban\", \"afil\", \"ine\", \"parib\", \"tide\", \"vec\", \"ast\", \"imsu\",\n",
    "\t\t\t\t \"caine\",\"bicin\"]\n",
    "# omitted suffixes (proved decrease F1 score DEVEL): in\n",
    "# proved useful (F1 DEVEL): ine, tide, ast, vec,bicin\n",
    "# 0 impact (F1 DEVEL): mab, vir\n",
    "DRUG_PREFIXES = [\"cef\",\"ceph\"]\n",
    "DRUG_INFIXES = [\"brab\", \"grel\"]\n",
    "\n",
    "DRUG_COMPOSED_WORDS = ['acid','sodium','alkaloids','hydrochloride','f2alpha','edisylate','iodide','sulfate','acetate'\n",
    "\t\t\t\t\t\t'antiinflammatory','mustard','hcl','mofetil','gallate','cations','nitrate']\n",
    "\n",
    "GROUP_COMPOSED_LAST_WORDS = [\n",
    "\t'adjuvant',\n",
    "\t'agonist',\n",
    "\t'alkaloid',\n",
    "\t'antibiotic',\n",
    "\t'antidepressent',\n",
    "\t'anti-inflammatory',\n",
    "\t'blocker',\n",
    "\t'class',\n",
    "\t'compound',\n",
    "\t'depressants',\n",
    "\t'diuretic',\n",
    "\t'drug',\n",
    "\t'hormone',\n",
    "\t'inhibitor',\n",
    "\t'medication',\n",
    "\t'product',\n",
    "\t'solution',\n",
    "\t'steroid',\n",
    "\t'vaccine',\n",
    "\t'vasodilator'\n",
    "]\n",
    "\n",
    "GROUP_COMPOSED_MIDDLE_WORDS = [\n",
    "\t'oxidase',\n",
    "\t'channel',\n",
    "\t'anti-inflammatory',\n",
    "\t'blocking',\n",
    "\t'reuptake',\n",
    "\t'serotonin',\n",
    "\t'reductase',\n",
    "\t'pump',\n",
    "\t'depressant',\n",
    "\t'anhydrase'\n",
    "]\n",
    "ALL_COMPOSED_WORDS = DRUG_COMPOSED_WORDS + GROUP_COMPOSED_LAST_WORDS"
   ]
  }
 ],
 "metadata": {
  "kernelspec": {
   "display_name": "Python 3",
   "language": "python",
   "name": "python3"
  },
  "language_info": {
   "codemirror_mode": {
    "name": "ipython",
    "version": 3
   },
   "file_extension": ".py",
   "mimetype": "text/x-python",
   "name": "python",
   "nbconvert_exporter": "python",
   "pygments_lexer": "ipython3",
   "version": "3.7.3"
  }
 },
 "nbformat": 4,
 "nbformat_minor": 4
}
